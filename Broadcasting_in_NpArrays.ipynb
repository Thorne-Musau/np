{
  "nbformat": 4,
  "nbformat_minor": 0,
  "metadata": {
    "colab": {
      "provenance": [],
      "authorship_tag": "ABX9TyNzjefRXMQDYdtrm6wYkl3W",
      "include_colab_link": true
    },
    "kernelspec": {
      "name": "python3",
      "display_name": "Python 3"
    },
    "language_info": {
      "name": "python"
    }
  },
  "cells": [
    {
      "cell_type": "markdown",
      "metadata": {
        "id": "view-in-github",
        "colab_type": "text"
      },
      "source": [
        "<a href=\"https://colab.research.google.com/github/Thorne-Musau/np/blob/main/Broadcasting_in_NpArrays.ipynb\" target=\"_parent\"><img src=\"https://colab.research.google.com/assets/colab-badge.svg\" alt=\"Open In Colab\"/></a>"
      ]
    },
    {
      "cell_type": "markdown",
      "source": [
        "Broadcasting is simply a set of rules for applying binary ufuncs (e.g., addition, subtraction, multiplication, etc.) on arrays of different sizes."
      ],
      "metadata": {
        "id": "ZO2EBpkMzZ0x"
      }
    },
    {
      "cell_type": "code",
      "source": [
        "import numpy as np\n",
        "a = np.array([0,1,1])\n",
        "b = np.array([5,5,5])\n",
        "a + b"
      ],
      "metadata": {
        "colab": {
          "base_uri": "https://localhost:8080/"
        },
        "id": "GFjcs2GwzfL9",
        "outputId": "387740e3-ba15-47c2-c8e6-1f04830ae497"
      },
      "execution_count": 1,
      "outputs": [
        {
          "output_type": "execute_result",
          "data": {
            "text/plain": [
              "array([5, 6, 6])"
            ]
          },
          "metadata": {},
          "execution_count": 1
        }
      ]
    },
    {
      "cell_type": "markdown",
      "source": [
        "Broadcasting helps to allow these types of operations to be performed on arrays\n",
        "This includes adding a scalar to a numpy array"
      ],
      "metadata": {
        "id": "LVXwxTEFz3kT"
      }
    },
    {
      "cell_type": "code",
      "source": [
        "# Such that the result can be as follows\n",
        "a + 7\n",
        "# Adding the scalar to each element of the array"
      ],
      "metadata": {
        "colab": {
          "base_uri": "https://localhost:8080/"
        },
        "id": "2jYkGBXOzuv6",
        "outputId": "0d651781-05c2-4405-df8c-7d8730d8c4fb"
      },
      "execution_count": 4,
      "outputs": [
        {
          "output_type": "execute_result",
          "data": {
            "text/plain": [
              "array([7, 8, 8])"
            ]
          },
          "metadata": {},
          "execution_count": 4
        }
      ]
    },
    {
      "cell_type": "code",
      "source": [
        "# can also be used in multile dimensional arrays\n",
        "N = np.ones((3,3))\n",
        "N"
      ],
      "metadata": {
        "colab": {
          "base_uri": "https://localhost:8080/"
        },
        "id": "FaymcRa60R9I",
        "outputId": "fa217202-97c5-49b6-c108-5c9acc696453"
      },
      "execution_count": 9,
      "outputs": [
        {
          "output_type": "execute_result",
          "data": {
            "text/plain": [
              "array([[1., 1., 1.],\n",
              "       [1., 1., 1.],\n",
              "       [1., 1., 1.]])"
            ]
          },
          "metadata": {},
          "execution_count": 9
        }
      ]
    },
    {
      "cell_type": "code",
      "source": [
        "N + a"
      ],
      "metadata": {
        "colab": {
          "base_uri": "https://localhost:8080/"
        },
        "id": "Po1T9wyC000z",
        "outputId": "3bba2dd2-33db-42c2-97ac-b3203a77d2f8"
      },
      "execution_count": 10,
      "outputs": [
        {
          "output_type": "execute_result",
          "data": {
            "text/plain": [
              "array([[1., 2., 2.],\n",
              "       [1., 2., 2.],\n",
              "       [1., 2., 2.]])"
            ]
          },
          "metadata": {},
          "execution_count": 10
        }
      ]
    },
    {
      "cell_type": "code",
      "source": [
        "# More complex cases:\n",
        "a = np.arange(3)\n",
        "b = np.arange(3)[:, np.newaxis]\n",
        "print(a)\n",
        "print(b)"
      ],
      "metadata": {
        "colab": {
          "base_uri": "https://localhost:8080/"
        },
        "id": "IWXvyJIK1DZl",
        "outputId": "e2fbcd18-df04-4a06-a8ba-defd272ec3ad"
      },
      "execution_count": 16,
      "outputs": [
        {
          "output_type": "stream",
          "name": "stdout",
          "text": [
            "[0 1 2]\n",
            "[[0]\n",
            " [1]\n",
            " [2]]\n"
          ]
        }
      ]
    },
    {
      "cell_type": "code",
      "source": [
        "a + b"
      ],
      "metadata": {
        "colab": {
          "base_uri": "https://localhost:8080/"
        },
        "id": "M6o3FybB1PBv",
        "outputId": "3627ef85-8115-4ee8-b3b0-f08a50d20ef1"
      },
      "execution_count": 17,
      "outputs": [
        {
          "output_type": "execute_result",
          "data": {
            "text/plain": [
              "array([[0, 1, 2],\n",
              "       [1, 2, 3],\n",
              "       [2, 3, 4]])"
            ]
          },
          "metadata": {},
          "execution_count": 17
        }
      ]
    },
    {
      "cell_type": "markdown",
      "source": [
        "# **Rules of Broadcasting**\n",
        "Broadcasting in NumPy follows a strict set of rules to determine the interaction between the two arrays:\n",
        "\n",
        "> * Rule 1: If the two arrays differ in their\n",
        "number of dimensions, the shape of the one with fewer dimensions is padded with ones on its leading (left) side.\n",
        "* Rule 2: If the shape of the two arrays does not match in any dimension, the array with shape equal to 1 in that dimension is stretched to match the other shape.\n",
        "* Rule 3: If in any dimension the sizes disagree and neither is equal to 1, an error is raised.\n"
      ],
      "metadata": {
        "id": "K_bldLKt23Xj"
      }
    },
    {
      "cell_type": "code",
      "source": [
        "# Example 1\n",
        "m= np.ones((2,3))\n",
        "a = np.arange(3)\n",
        "print(a)\n"
      ],
      "metadata": {
        "colab": {
          "base_uri": "https://localhost:8080/"
        },
        "id": "rKk4IRts2QTl",
        "outputId": "5510f7f8-bb16-408b-a236-0a2eb77fc9d9"
      },
      "execution_count": 19,
      "outputs": [
        {
          "output_type": "stream",
          "name": "stdout",
          "text": [
            "[0 1 2]\n"
          ]
        }
      ]
    },
    {
      "cell_type": "code",
      "source": [
        "m + a\n",
        "# We see that array a has fewer dimensions in regards to the second one\n",
        "# so we stretch the second one to match"
      ],
      "metadata": {
        "colab": {
          "base_uri": "https://localhost:8080/"
        },
        "id": "DlUjf4aQ6xnJ",
        "outputId": "05a3ab78-a0ed-45cb-e2c1-6490c83dafb0"
      },
      "execution_count": 21,
      "outputs": [
        {
          "output_type": "execute_result",
          "data": {
            "text/plain": [
              "array([[1., 2., 3.],\n",
              "       [1., 2., 3.]])"
            ]
          },
          "metadata": {},
          "execution_count": 21
        }
      ]
    },
    {
      "cell_type": "code",
      "source": [],
      "metadata": {
        "id": "XhhCjQVK66Hw"
      },
      "execution_count": null,
      "outputs": []
    }
  ]
}