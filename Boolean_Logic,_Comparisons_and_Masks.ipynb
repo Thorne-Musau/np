{
  "nbformat": 4,
  "nbformat_minor": 0,
  "metadata": {
    "colab": {
      "provenance": [],
      "authorship_tag": "ABX9TyOyJM4Nb91pPE2l/z7ttONf",
      "include_colab_link": true
    },
    "kernelspec": {
      "name": "python3",
      "display_name": "Python 3"
    },
    "language_info": {
      "name": "python"
    }
  },
  "cells": [
    {
      "cell_type": "markdown",
      "metadata": {
        "id": "view-in-github",
        "colab_type": "text"
      },
      "source": [
        "<a href=\"https://colab.research.google.com/github/Thorne-Musau/np/blob/main/Boolean_Logic%2C_Comparisons_and_Masks.ipynb\" target=\"_parent\"><img src=\"https://colab.research.google.com/assets/colab-badge.svg\" alt=\"Open In Colab\"/></a>"
      ]
    },
    {
      "cell_type": "code",
      "source": [
        "import numpy as np\n",
        "import pandas as pd"
      ],
      "metadata": {
        "id": "5LDBry5me7JA"
      },
      "execution_count": 2,
      "outputs": []
    },
    {
      "cell_type": "markdown",
      "source": [
        "# Comparison Operators as ufuncs\n",
        "\n",
        "In Computation on NumPy Arrays: Universal Functions we introduced ufuncs, and focused in particular on arithmetic operators. We saw that using +, -, *, /, and others on arrays leads to element-wise operations. NumPy also implements comparison operators such as < (less than) and > (greater than) as element-wise ufuncs. The result of these comparison operators is always an array with a Boolean data type.\n",
        "\n",
        "As in the case of arithmetic operators, the comparison operators are implemented as ufuncs in NumPy; for example, when you write x < 3, internally NumPy uses np.less(x, 3). A summary of the comparison operators and their equivalent ufunc is shown here:\n",
        "\n",
        "Operator\tEquivalent ufunc\t\tOperator\tEquivalent ufunc\n",
        "\n",
        "==\tnp.equal\t\t!=\tnp.not_equal\n",
        "<\tnp.less\t\t<=\tnp.less_equal\n",
        "(>)\tnp.greater\t\t>=\tnp.greater_equal"
      ],
      "metadata": {
        "id": "AmK-uv8TeS-y"
      }
    },
    {
      "cell_type": "code",
      "execution_count": 3,
      "metadata": {
        "colab": {
          "base_uri": "https://localhost:8080/"
        },
        "id": "4HMYFH5NXSv2",
        "outputId": "554b8d42-49ef-4b27-aebb-cfafd98ce656"
      },
      "outputs": [
        {
          "output_type": "execute_result",
          "data": {
            "text/plain": [
              "array([[5, 0, 3, 3],\n",
              "       [7, 9, 3, 5],\n",
              "       [2, 4, 7, 6]])"
            ]
          },
          "metadata": {},
          "execution_count": 3
        }
      ],
      "source": [
        "# Example of this:\n",
        "rng = np.random.RandomState(0)\n",
        "x = rng.randint(10,size=(3,4))\n",
        "x"
      ]
    },
    {
      "cell_type": "code",
      "source": [
        "x < 6"
      ],
      "metadata": {
        "colab": {
          "base_uri": "https://localhost:8080/"
        },
        "id": "B7Z2MzBlfOhZ",
        "outputId": "da437354-f970-48ce-ad3f-94f633a6e662"
      },
      "execution_count": 5,
      "outputs": [
        {
          "output_type": "execute_result",
          "data": {
            "text/plain": [
              "array([[ True,  True,  True,  True],\n",
              "       [False, False,  True,  True],\n",
              "       [ True,  True, False, False]])"
            ]
          },
          "metadata": {},
          "execution_count": 5
        }
      ]
    },
    {
      "cell_type": "markdown",
      "source": [
        "We use the np ufunc operator equivalents when dealing with large data because of computational times and cases of multidimensional arrays"
      ],
      "metadata": {
        "id": "gtYlN5jFfu8P"
      }
    },
    {
      "cell_type": "code",
      "source": [],
      "metadata": {
        "id": "zzrS6xaAfZ7P"
      },
      "execution_count": null,
      "outputs": []
    },
    {
      "cell_type": "markdown",
      "source": [
        "## Counting entries\n",
        "np.count_nonzero func is useful where it counts the number of trues"
      ],
      "metadata": {
        "id": "ZbxmcPH2gONe"
      }
    },
    {
      "cell_type": "code",
      "source": [
        "# Example\n",
        "np.count_nonzero(x)"
      ],
      "metadata": {
        "colab": {
          "base_uri": "https://localhost:8080/"
        },
        "id": "fCeshLgAgf7B",
        "outputId": "ddae700a-8aab-4a92-ca4d-4f2b99f66c7f"
      },
      "execution_count": 9,
      "outputs": [
        {
          "output_type": "execute_result",
          "data": {
            "text/plain": [
              "11"
            ]
          },
          "metadata": {},
          "execution_count": 9
        }
      ]
    },
    {
      "cell_type": "code",
      "source": [
        "# Count values less than 6\n",
        "np.count_nonzero(x <6)"
      ],
      "metadata": {
        "colab": {
          "base_uri": "https://localhost:8080/"
        },
        "id": "4XBpENoFgm9J",
        "outputId": "34a5b782-aac4-4905-be44-22f8fa890e88"
      },
      "execution_count": 10,
      "outputs": [
        {
          "output_type": "execute_result",
          "data": {
            "text/plain": [
              "8"
            ]
          },
          "metadata": {},
          "execution_count": 10
        }
      ]
    },
    {
      "cell_type": "code",
      "source": [
        "# How many values in each row are less than 6\n",
        "np.count_nonzero(x < 6 , axis=1)"
      ],
      "metadata": {
        "colab": {
          "base_uri": "https://localhost:8080/"
        },
        "id": "QpJDCzk6g2-H",
        "outputId": "28afa14f-9920-4bd8-f941-a4784804d269"
      },
      "execution_count": 11,
      "outputs": [
        {
          "output_type": "execute_result",
          "data": {
            "text/plain": [
              "array([4, 2, 2])"
            ]
          },
          "metadata": {},
          "execution_count": 11
        }
      ]
    },
    {
      "cell_type": "markdown",
      "source": [
        "Checking whether all values are true:\n",
        "We use the np.all or the np.any funcs"
      ],
      "metadata": {
        "id": "nBozc7zThJPm"
      }
    },
    {
      "cell_type": "code",
      "source": [
        "# Are there any values greater than 7?\n",
        "np.any(x>7)"
      ],
      "metadata": {
        "colab": {
          "base_uri": "https://localhost:8080/"
        },
        "id": "S6Hy2mAQhGA4",
        "outputId": "e7696aa1-2947-412f-c106-0400754aacda"
      },
      "execution_count": 12,
      "outputs": [
        {
          "output_type": "execute_result",
          "data": {
            "text/plain": [
              "True"
            ]
          },
          "metadata": {},
          "execution_count": 12
        }
      ]
    },
    {
      "cell_type": "code",
      "source": [
        "# are there any values less than zero?\n",
        "np.any(x < 0)"
      ],
      "metadata": {
        "colab": {
          "base_uri": "https://localhost:8080/"
        },
        "id": "c1ZQKoIhhYAU",
        "outputId": "7fb37935-e9d9-48d1-ef78-857d21cf20c1"
      },
      "execution_count": 13,
      "outputs": [
        {
          "output_type": "execute_result",
          "data": {
            "text/plain": [
              "False"
            ]
          },
          "metadata": {},
          "execution_count": 13
        }
      ]
    },
    {
      "cell_type": "markdown",
      "source": [
        "Can also be used along particular axes too"
      ],
      "metadata": {
        "id": "8vmtFHp_hnq3"
      }
    },
    {
      "cell_type": "code",
      "source": [
        "# are all values in each row less than 8?\n",
        "np.all(x < 8, axis=1)"
      ],
      "metadata": {
        "colab": {
          "base_uri": "https://localhost:8080/"
        },
        "id": "6NgmzzUjhjDN",
        "outputId": "577a5ddc-7404-4800-861c-d42b659e6a9a"
      },
      "execution_count": 14,
      "outputs": [
        {
          "output_type": "execute_result",
          "data": {
            "text/plain": [
              "array([ True, False,  True])"
            ]
          },
          "metadata": {},
          "execution_count": 14
        }
      ]
    },
    {
      "cell_type": "markdown",
      "source": [
        "# Bool Operators\n",
        "Combining comparison operators and Boolean operators on arrays can lead to a wide range of efficient logical operations.\n",
        "\n",
        "The following table summarizes the bitwise Boolean operators and their equivalent ufuncs:\n",
        "\n",
        "Operator\tEquivalent ufunc\t\tOperator\tEquivalent ufunc\n",
        "& - np.bitwise_and\t\t|\t- np.bitwise_or\n",
        "^\t- np.bitwise_xor\t\t~\t- np.bitwise_not"
      ],
      "metadata": {
        "id": "RZt7U4tyhwam"
      }
    },
    {
      "cell_type": "markdown",
      "source": [
        "## Rainy days example"
      ],
      "metadata": {
        "id": "AmQ7OBqxiWYG"
      }
    },
    {
      "cell_type": "code",
      "source": [
        "from google.colab import drive\n",
        "drive.mount('/content/drive')\n"
      ],
      "metadata": {
        "colab": {
          "base_uri": "https://localhost:8080/"
        },
        "id": "HK0bDavkhteo",
        "outputId": "d069caad-018e-46f0-ab25-431335131b42"
      },
      "execution_count": 15,
      "outputs": [
        {
          "output_type": "stream",
          "name": "stdout",
          "text": [
            "Mounted at /content/drive\n"
          ]
        }
      ]
    },
    {
      "cell_type": "code",
      "source": [
        "!ls 'drive/My Drive/Dataset/Seattle2014.csv'"
      ],
      "metadata": {
        "colab": {
          "base_uri": "https://localhost:8080/"
        },
        "id": "zrwlNuW0jIIQ",
        "outputId": "9155a62d-3376-4667-c9bf-bce8cddf9e67"
      },
      "execution_count": 16,
      "outputs": [
        {
          "output_type": "stream",
          "name": "stdout",
          "text": [
            "'drive/My Drive/Dataset/Seattle2014.csv'\n"
          ]
        }
      ]
    },
    {
      "cell_type": "code",
      "source": [
        "dataset = pd.read_csv('drive/My Drive/Dataset/Seattle2014.csv')['PRCP'].values\n",
        "df =dataset.copy()\n",
        "df"
      ],
      "metadata": {
        "colab": {
          "base_uri": "https://localhost:8080/"
        },
        "id": "1YwlIo4WjZkS",
        "outputId": "8d967240-7537-4ac8-fcdf-60e5334ec1d3"
      },
      "execution_count": 20,
      "outputs": [
        {
          "output_type": "execute_result",
          "data": {
            "text/plain": [
              "array([  0,  41,  15,   0,   0,   3, 122,  97,  58,  43, 213,  15,   0,\n",
              "         0,   0,   0,   0,   0,   0,   0,   0,   5,   0,   0,   0,   0,\n",
              "         0,  89, 216,   0,  23,  20,   0,   0,   0,   0,   0,   0,  51,\n",
              "         5, 183, 170,  46,  18,  94, 117, 264, 145, 152,  10,  30,  28,\n",
              "        25,  61, 130,   3,   0,   0,   0,   5, 191, 107, 165, 467,  30,\n",
              "         0, 323,  43, 188,   0,   0,   5,  69,  81, 277,   3,   0,   5,\n",
              "         0,   0,   0,   0,   0,  41,  36,   3, 221, 140,   0,   0,   0,\n",
              "         0,  25,   0,  46,   0,   0,  46,   0,   0,   0,   0,   0,   0,\n",
              "         5, 109, 185,   0, 137,   0,  51, 142,  89, 124,   0,  33,  69,\n",
              "         0,   0,   0,   0,   0, 333, 160,  51,   0,   0, 137,  20,   5,\n",
              "         0,   0,   0,   0,   0,   0,   0,   0,   0,   0,   0,   0,  38,\n",
              "         0,  56,   0,   0,   0,   0,   0,   0,   0,   0,   0,   0,   0,\n",
              "         0,   0,   0,   0,   0,   0,  18,  64,   0,   5,  36,  13,   0,\n",
              "         8,   3,   0,   0,   0,   0,   0,   0,  18,  23,   0,   0,   0,\n",
              "         0,   0,   0,   0,   0,   0,   0,   0,   0,   0,   0,   0,   0,\n",
              "         0,   0,   0,   0,   0,   0,   0,   3, 193,   0,   0,   0,   0,\n",
              "         0,   0,   0,   0,   0,   5,   0,   0,   0,   0,   0,   0,   0,\n",
              "         0,   5, 127, 216,   0,  10,   0,   0,   0,   0,   0,   0,   0,\n",
              "         0,   0,   0,   0,   0,   0,   0,  84,  13,   0,  30,   0,   0,\n",
              "         0,   0,   0,   0,   0,   0,   0,   0,   0,   0,   0,   0,   5,\n",
              "         3,   0,   0,   0,   3, 183, 203,  43,  89,   0,   0,   8,   0,\n",
              "         0,   0,   0,   0,   0,   0,   0,   0,   0,   3,  74,   0,  76,\n",
              "        71,  86,   0,  33, 150,   0, 117,  10, 320,  94,  41,  61,  15,\n",
              "         8, 127,   5, 254, 170,   0,  18, 109,  41,  48,  41,   0,   0,\n",
              "        51,   0,   0,   0,   0,   0,   0,   0,   0,   0,   0,  36, 152,\n",
              "         5, 119,  13, 183,   3,  33, 343,  36,   0,   0,   0,   0,   8,\n",
              "        30,  74,   0,  91,  99, 130,  69,   0,   0,   0,   0,   0,  28,\n",
              "       130,  30, 196,   0,   0, 206,  53,   0,   0,  33,  41,   0,   0,\n",
              "         0])"
            ]
          },
          "metadata": {},
          "execution_count": 20
        }
      ]
    },
    {
      "cell_type": "code",
      "source": [
        "inches = df /254.0\n",
        "inches.shape"
      ],
      "metadata": {
        "colab": {
          "base_uri": "https://localhost:8080/"
        },
        "id": "LIHbtX1Aju1X",
        "outputId": "3109de63-1b67-4dd0-8d80-d1786bf49181"
      },
      "execution_count": 22,
      "outputs": [
        {
          "output_type": "execute_result",
          "data": {
            "text/plain": [
              "(365,)"
            ]
          },
          "metadata": {},
          "execution_count": 22
        }
      ]
    },
    {
      "cell_type": "code",
      "source": [
        "# Using bool operators, we can sort a copound question\n",
        "np.sum ((inches > 0.5) & (inches < 1))\n",
        " # where inches is greater than or equal to o.5 and less than 1"
      ],
      "metadata": {
        "colab": {
          "base_uri": "https://localhost:8080/"
        },
        "id": "Cr4hfFPskNdu",
        "outputId": "6b19c876-515a-47b3-d959-cd0f65382ae9"
      },
      "execution_count": 25,
      "outputs": [
        {
          "output_type": "execute_result",
          "data": {
            "text/plain": [
              "29"
            ]
          },
          "metadata": {},
          "execution_count": 25
        }
      ]
    },
    {
      "cell_type": "code",
      "source": [
        "print(\"Number days without rain:      \", np.sum(inches == 0))\n",
        "print(\"Number days with rain:         \", np.sum(inches != 0))\n",
        "print(\"Days with more than 0.5 inches:\", np.sum(inches > 0.5))\n",
        "print(\"Rainy days with < 0.2 inches  :\", np.sum((inches > 0) & (inches < 0.2)))"
      ],
      "metadata": {
        "colab": {
          "base_uri": "https://localhost:8080/"
        },
        "id": "OmhAmLLskrvK",
        "outputId": "b1ca16c2-3e68-4ea5-cdde-3c2a6b9842a7"
      },
      "execution_count": 26,
      "outputs": [
        {
          "output_type": "stream",
          "name": "stdout",
          "text": [
            "Number days without rain:       215\n",
            "Number days with rain:          150\n",
            "Days with more than 0.5 inches: 37\n",
            "Rainy days with < 0.2 inches  : 75\n"
          ]
        }
      ]
    },
    {
      "cell_type": "markdown",
      "source": [
        "## Masking\n",
        "Boolean arrays as masks is used to select particular subsets of the data themselves."
      ],
      "metadata": {
        "id": "QlufMqmvlDUQ"
      }
    },
    {
      "cell_type": "code",
      "source": [
        "# mask of all rainy days\n",
        "rainy = (inches > 0)"
      ],
      "metadata": {
        "id": "6v_Tqdh5k6QG"
      },
      "execution_count": 27,
      "outputs": []
    },
    {
      "cell_type": "code",
      "source": [
        "# construct a mask of all summer days (June 21st is the 172nd day)\n",
        "days = np.arange(365)\n",
        "summer = (days > 172) & (days < 262)"
      ],
      "metadata": {
        "id": "NG7rHiDelbGR"
      },
      "execution_count": 28,
      "outputs": []
    },
    {
      "cell_type": "code",
      "source": [
        "print(\"Median precip on rainy days in 2014 (inches):   \",\n",
        "      np.median(inches[rainy]))\n",
        "print(\"Median precip on summer days in 2014 (inches):  \",\n",
        "      np.median(inches[summer]))\n",
        "print(\"Maximum precip on summer days in 2014 (inches): \",\n",
        "      np.max(inches[summer]))\n",
        "print(\"Median precip on non-summer rainy days (inches):\",\n",
        "      np.median(inches[rainy & ~summer]))"
      ],
      "metadata": {
        "colab": {
          "base_uri": "https://localhost:8080/"
        },
        "id": "V3NhgUEKlgRn",
        "outputId": "74fb1cdf-2496-4188-d8b5-28e01bd8ccae"
      },
      "execution_count": 29,
      "outputs": [
        {
          "output_type": "stream",
          "name": "stdout",
          "text": [
            "Median precip on rainy days in 2014 (inches):    0.19488188976377951\n",
            "Median precip on summer days in 2014 (inches):   0.0\n",
            "Maximum precip on summer days in 2014 (inches):  0.8503937007874016\n",
            "Median precip on non-summer rainy days (inches): 0.20078740157480315\n"
          ]
        }
      ]
    },
    {
      "cell_type": "code",
      "source": [
        "%matplotlib inline\n",
        "import matplotlib.pyplot as plt\n",
        "import seaborn; seaborn.set()  # set plot styles"
      ],
      "metadata": {
        "id": "cFCSQ_JwljJz"
      },
      "execution_count": 30,
      "outputs": []
    },
    {
      "cell_type": "code",
      "source": [
        "plt.hist(inches , 40);"
      ],
      "metadata": {
        "colab": {
          "base_uri": "https://localhost:8080/",
          "height": 434
        },
        "id": "zWGoh2uPlyfn",
        "outputId": "4c0b8071-441e-4b94-b01e-54069c9fa408"
      },
      "execution_count": 31,
      "outputs": [
        {
          "output_type": "display_data",
          "data": {
            "text/plain": [
              "<Figure size 640x480 with 1 Axes>"
            ],
            "image/png": "[encoded data removed]"
          },
          "metadata": {}
        }
      ]
    },
    {
      "cell_type": "code",
      "source": [],
      "metadata": {
        "id": "HY56jSvnl4qi"
      },
      "execution_count": null,
      "outputs": []
    }
  ]
}