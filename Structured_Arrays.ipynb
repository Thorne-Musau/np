{
  "nbformat": 4,
  "nbformat_minor": 0,
  "metadata": {
    "colab": {
      "provenance": [],
      "authorship_tag": "ABX9TyNpeKIfOY+zUPInPARD43O4",
      "include_colab_link": true
    },
    "kernelspec": {
      "name": "python3",
      "display_name": "Python 3"
    },
    "language_info": {
      "name": "python"
    }
  },
  "cells": [
    {
      "cell_type": "markdown",
      "metadata": {
        "id": "view-in-github",
        "colab_type": "text"
      },
      "source": [
        "<a href=\"https://colab.research.google.com/github/Thorne-Musau/np/blob/main/Structured_Arrays.ipynb\" target=\"_parent\"><img src=\"https://colab.research.google.com/assets/colab-badge.svg\" alt=\"Open In Colab\"/></a>"
      ]
    },
    {
      "cell_type": "code",
      "execution_count": 1,
      "metadata": {
        "id": "Mzwwrpqi2FI8"
      },
      "outputs": [],
      "source": [
        "import numpy as np\n"
      ]
    },
    {
      "cell_type": "markdown",
      "source": [
        "# Creating Structured Arrays\n",
        "Can be done via the dictionary method:"
      ],
      "metadata": {
        "id": "9dZMZNudCRWs"
      }
    },
    {
      "cell_type": "code",
      "source": [
        "np.dtype({'names':('name', 'age', 'weight'),\n",
        "          'formats':('U10', 'i4', 'f8')})"
      ],
      "metadata": {
        "colab": {
          "base_uri": "https://localhost:8080/"
        },
        "id": "3ApbDVw4CLVX",
        "outputId": "f3097f19-c7f4-4f3c-ac98-d2e2e6e1afa9"
      },
      "execution_count": 2,
      "outputs": [
        {
          "output_type": "execute_result",
          "data": {
            "text/plain": [
              "dtype([('name', '<U10'), ('age', '<i4'), ('weight', '<f8')])"
            ]
          },
          "metadata": {},
          "execution_count": 2
        }
      ]
    },
    {
      "cell_type": "markdown",
      "source": [
        "Can also be done using the Python types or Numpy dtype:"
      ],
      "metadata": {
        "id": "-UsQrHoCCmPs"
      }
    },
    {
      "cell_type": "code",
      "source": [
        "np.dtype({'names':('name', 'age', 'weight'),\n",
        "          'formats':((np.str_, 10), int, np.float32)})"
      ],
      "metadata": {
        "colab": {
          "base_uri": "https://localhost:8080/"
        },
        "id": "kp1r_cptCfn_",
        "outputId": "41266503-c1d6-4467-bec9-6a09f1bdc53c"
      },
      "execution_count": 3,
      "outputs": [
        {
          "output_type": "execute_result",
          "data": {
            "text/plain": [
              "dtype([('name', '<U10'), ('age', '<i8'), ('weight', '<f4')])"
            ]
          },
          "metadata": {},
          "execution_count": 3
        }
      ]
    },
    {
      "cell_type": "markdown",
      "source": [
        "\n",
        "| Character    | Description           | Example                           |\n",
        "| ---------    | -----------           | -------                           |\n",
        "| `'b'`        | Byte                  | `np.dtype('b')`                   |\n",
        "| `'i'`        | Signed integer        | `np.dtype('i4') == np.int32`      |\n",
        "| `'u'`        | Unsigned integer      | `np.dtype('u1') == np.uint8`      |\n",
        "| `'f'`        | Floating point        | `np.dtype('f8') == np.int64`      |\n",
        "| `'c'`        | Complex floating point| `np.dtype('c16') == np.complex128`|\n",
        "| `'S'`, `'a'` | String                | `np.dtype('S5')`                  |\n",
        "| `'U'`        | Unicode string        | `np.dtype('U') == np.str_`        |\n",
        "| `'V'`        | Raw data (void)       | `np.dtype('V') == np.void`        |"
      ],
      "metadata": {
        "id": "aeyNcvahC-nU"
      }
    },
    {
      "cell_type": "code",
      "source": [],
      "metadata": {
        "id": "cXI1BQnjCviv"
      },
      "execution_count": null,
      "outputs": []
    }
  ]
}