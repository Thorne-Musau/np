{
  "nbformat": 4,
  "nbformat_minor": 0,
  "metadata": {
    "colab": {
      "provenance": [],
      "authorship_tag": "ABX9TyPB71a4kvgVZpYkmWN/vofi",
      "include_colab_link": true
    },
    "kernelspec": {
      "name": "python3",
      "display_name": "Python 3"
    },
    "language_info": {
      "name": "python"
    }
  },
  "cells": [
    {
      "cell_type": "markdown",
      "metadata": {
        "id": "view-in-github",
        "colab_type": "text"
      },
      "source": [
        "<a href=\"https://colab.research.google.com/github/Thorne-Musau/np/blob/main/Numpy_basics.ipynb\" target=\"_parent\"><img src=\"https://colab.research.google.com/assets/colab-badge.svg\" alt=\"Open In Colab\"/></a>"
      ]
    },
    {
      "cell_type": "code",
      "execution_count": null,
      "metadata": {
        "id": "QtCYHlBY0W5r"
      },
      "outputs": [],
      "source": [
        "# numpy importation into the workbook\n",
        "import pandas as pd\n",
        "import numpy as np\n",
        "# Random number generator\n",
        "rng = np.random.default_rng(seed=1701) # Seeding for reproductibility\n",
        "\n",
        "x1 = rng.integers(10, size=6)  # one-dimensional array\n",
        "x2 = rng.integers(10, size=(3, 4))  # two-dimensional array\n",
        "x3 = rng.integers(10, size=(3, 4, 5))  # three-dimensional array\n",
        "print(x1)"
      ]
    },
    {
      "cell_type": "code",
      "source": [
        "# Array attributes\n",
        "# ndim -Number of dimensions\n",
        "# shape - size of each dimension\n",
        "# size- total size of the array\n",
        "# dtype - type of each element\n",
        "print(\"x3 ndim: \", x3.ndim)\n",
        "print(\"x3 shape:\", x3.shape)\n",
        "print(\"x3 size: \", x3.size)\n",
        "print(\"dtype:   \", x3.dtype)"
      ],
      "metadata": {
        "id": "9KHips0F0nvW"
      },
      "execution_count": null,
      "outputs": []
    },
    {
      "cell_type": "code",
      "source": [
        "# Numpy array indexing similar to python (Starting from zero to i-th value)\n",
        "x1\n",
        "x1[0] # First value\n",
        "x1[-1] # Last value in array"
      ],
      "metadata": {
        "id": "i0jzWM6k15V6"
      },
      "execution_count": null,
      "outputs": []
    },
    {
      "cell_type": "code",
      "source": [
        "# Multidemensional arrays (comma separated [rows,columns])\n",
        "x2[0,0]"
      ],
      "metadata": {
        "id": "yZz5iPDc2htR"
      },
      "execution_count": null,
      "outputs": []
    },
    {
      "cell_type": "code",
      "source": [
        "# Modifying values\n",
        "x2[0,0] =12\n",
        "x2"
      ],
      "metadata": {
        "colab": {
          "base_uri": "https://localhost:8080/"
        },
        "id": "dBs0hJ_n2_MM",
        "outputId": "65c505bb-7bfa-415e-c96a-0272232475a3"
      },
      "execution_count": null,
      "outputs": [
        {
          "output_type": "execute_result",
          "data": {
            "text/plain": [
              "array([[12,  1,  3,  7],\n",
              "       [ 4,  0,  2,  3],\n",
              "       [ 0,  0,  6,  9]])"
            ]
          },
          "metadata": {},
          "execution_count": 10
        }
      ]
    },
    {
      "cell_type": "code",
      "source": [
        "# Array slicing\n",
        "# 1d arrays\n",
        "# x[start:stop:step]\n",
        "# A potentially confusing case is when the step value is negative. In this case, the defaults for start and stop are swapped. This becomes a convenient way to reverse an array\n",
        "x1[:3]  # first three elements\n",
        "x1[3:]  # elements after index 3"
      ],
      "metadata": {
        "colab": {
          "base_uri": "https://localhost:8080/"
        },
        "id": "ibQhtIZ23Rdq",
        "outputId": "881bb528-e69f-46e7-a1bd-eeff1fb50f0e"
      },
      "execution_count": null,
      "outputs": [
        {
          "output_type": "execute_result",
          "data": {
            "text/plain": [
              "array([3, 8, 6])"
            ]
          },
          "metadata": {},
          "execution_count": 14
        }
      ]
    },
    {
      "cell_type": "code",
      "source": [
        "x1[1::2]  # every second element, starting at index 1"
      ],
      "metadata": {
        "colab": {
          "base_uri": "https://localhost:8080/"
        },
        "id": "nq6sVkBs33TJ",
        "outputId": "8b73f37f-d93b-494d-b082-75a7777f6f8a"
      },
      "execution_count": null,
      "outputs": [
        {
          "output_type": "execute_result",
          "data": {
            "text/plain": [
              "array([4, 3, 6])"
            ]
          },
          "metadata": {},
          "execution_count": 12
        }
      ]
    },
    {
      "cell_type": "code",
      "source": [
        "# Multidemensional arrays\n",
        "x2[:2, :3]  # first two rows & three columns"
      ],
      "metadata": {
        "colab": {
          "base_uri": "https://localhost:8080/"
        },
        "id": "mmKIXtBN3-Mf",
        "outputId": "d8e7f2ad-3f98-4039-d483-aeb082168aac"
      },
      "execution_count": null,
      "outputs": [
        {
          "output_type": "execute_result",
          "data": {
            "text/plain": [
              "array([[12,  1,  3],\n",
              "       [ 4,  0,  2]])"
            ]
          },
          "metadata": {},
          "execution_count": 15
        }
      ]
    },
    {
      "cell_type": "code",
      "source": [
        "x2[::-1, ::-1]  # all rows & columns, reversed\n",
        "# step value being negative, the array is reversed"
      ],
      "metadata": {
        "colab": {
          "base_uri": "https://localhost:8080/"
        },
        "id": "xFKduiO14hQ6",
        "outputId": "36a52692-a24e-43bd-d6e2-94543d7e63a1"
      },
      "execution_count": null,
      "outputs": [
        {
          "output_type": "execute_result",
          "data": {
            "text/plain": [
              "array([[ 9,  6,  0,  0],\n",
              "       [ 3,  2,  0,  4],\n",
              "       [ 7,  3,  1, 12]])"
            ]
          },
          "metadata": {},
          "execution_count": 16
        }
      ]
    },
    {
      "cell_type": "code",
      "source": [
        "# Subarrays as No-Copy Views\n",
        "# Changes made to sub arrays are directly reflected on the main numpy array unlike in python slicing\n",
        "x2_sub = x2[:2, :2]\n",
        "x2_sub[0,0]= 22\n",
        "print(x2)"
      ],
      "metadata": {
        "colab": {
          "base_uri": "https://localhost:8080/"
        },
        "id": "ibbxxr4p4kXJ",
        "outputId": "19661e44-873a-4bcc-fdc6-467820cb9373"
      },
      "execution_count": null,
      "outputs": [
        {
          "output_type": "stream",
          "name": "stdout",
          "text": [
            "[[22  1  3  7]\n",
            " [ 4  0  2  3]\n",
            " [ 0  0  6  9]]\n"
          ]
        }
      ]
    },
    {
      "cell_type": "code",
      "source": [
        "# Reshaping arrays\n",
        "# The use of .reshape fn\n",
        "x = np.array([1, 2, 3])\n",
        "x.reshape((1, 3))  # row vector via reshape"
      ],
      "metadata": {
        "colab": {
          "base_uri": "https://localhost:8080/"
        },
        "id": "RfOH4DTm5P1H",
        "outputId": "29ad9863-3e50-48b6-cf35-87fbbacf396e"
      },
      "execution_count": null,
      "outputs": [
        {
          "output_type": "execute_result",
          "data": {
            "text/plain": [
              "array([[1, 2, 3]])"
            ]
          },
          "metadata": {},
          "execution_count": 27
        }
      ]
    },
    {
      "cell_type": "code",
      "source": [
        "# If reshaping into one row or column, the np.newaxis is used\n",
        "x[:, np.newaxis ] #  Arranging in column axis"
      ],
      "metadata": {
        "colab": {
          "base_uri": "https://localhost:8080/"
        },
        "id": "0GY8kRGo6Tqm",
        "outputId": "e697e4e5-ce45-44a5-8d02-2a9e01e87800"
      },
      "execution_count": null,
      "outputs": [
        {
          "output_type": "execute_result",
          "data": {
            "text/plain": [
              "array([[1],\n",
              "       [2],\n",
              "       [3]])"
            ]
          },
          "metadata": {},
          "execution_count": 29
        }
      ]
    },
    {
      "cell_type": "code",
      "source": [
        "# Concatenation of Arrays\n",
        "# np.concatenate, np.vstack, and np.hstack. np.concatenate are used in joining\n",
        "x = np.array([1, 2, 3])\n",
        "y = np.array([3, 2, 1])\n",
        "np.concatenate([x, y])"
      ],
      "metadata": {
        "colab": {
          "base_uri": "https://localhost:8080/"
        },
        "id": "8Y1lQXD57wm_",
        "outputId": "7c0082d9-b60f-4a1b-a5fd-cb184c156d6e"
      },
      "execution_count": null,
      "outputs": [
        {
          "output_type": "execute_result",
          "data": {
            "text/plain": [
              "array([1, 2, 3, 3, 2, 1])"
            ]
          },
          "metadata": {},
          "execution_count": 30
        }
      ]
    },
    {
      "cell_type": "code",
      "source": [
        "# concatenate more than two arrays at once:\n",
        "z = np.array([99, 99, 99])\n",
        "print(np.concatenate([x, y, z]))"
      ],
      "metadata": {
        "colab": {
          "base_uri": "https://localhost:8080/"
        },
        "id": "60dQJEYS8x_f",
        "outputId": "8bea9d01-8a95-4f41-c636-ed83390b1758"
      },
      "execution_count": null,
      "outputs": [
        {
          "output_type": "stream",
          "name": "stdout",
          "text": [
            "[ 1  2  3  3  2  1 99 99 99]\n"
          ]
        }
      ]
    },
    {
      "cell_type": "code",
      "source": [
        "# In 2D- Arrays\n",
        "grid = np.array([[1,2,3],[4,5,6]])\n",
        "np.concatenate([grid,grid], axis =1) # zero indexed axis"
      ],
      "metadata": {
        "id": "Nk8acG2J85Hr"
      },
      "execution_count": null,
      "outputs": []
    },
    {
      "cell_type": "code",
      "source": [
        "# vertically stack the arrays\n",
        "np.vstack([x, grid])"
      ],
      "metadata": {
        "colab": {
          "base_uri": "https://localhost:8080/"
        },
        "id": "nBk7Qb6v9OhO",
        "outputId": "48a75225-abb0-4742-956e-c5653db7114e"
      },
      "execution_count": null,
      "outputs": [
        {
          "output_type": "execute_result",
          "data": {
            "text/plain": [
              "array([[1, 2, 3],\n",
              "       [1, 2, 3],\n",
              "       [4, 5, 6]])"
            ]
          },
          "metadata": {},
          "execution_count": 37
        }
      ]
    },
    {
      "cell_type": "code",
      "source": [
        "# horizontally stack the arrays\n",
        "y = np.array([[99],[99]])\n",
        "np.hstack([grid, y])"
      ],
      "metadata": {
        "colab": {
          "base_uri": "https://localhost:8080/"
        },
        "id": "mqEgJleK9rx-",
        "outputId": "7f6fff1f-076b-4c31-f19c-3f9ee936db01"
      },
      "execution_count": null,
      "outputs": [
        {
          "output_type": "execute_result",
          "data": {
            "text/plain": [
              "array([[ 1,  2,  3, 99],\n",
              "       [ 4,  5,  6, 99]])"
            ]
          },
          "metadata": {},
          "execution_count": 36
        }
      ]
    },
    {
      "cell_type": "code",
      "source": [
        "# Splitting arrays\n",
        "#  implemented by the functions np.split, np.hsplit, and np.vsplit\n",
        "x = [1, 2, 3, 99, 99, 3, 2, 1]\n",
        "x1, x2, x3 = np.split(x, [3, 5])\n",
        "print(x1, x2, x3)"
      ],
      "metadata": {
        "colab": {
          "base_uri": "https://localhost:8080/"
        },
        "id": "S9XU0d7o9ur9",
        "outputId": "ccb65d13-b2e4-40f0-b7e9-96bffd940a52"
      },
      "execution_count": null,
      "outputs": [
        {
          "output_type": "stream",
          "name": "stdout",
          "text": [
            "[1 2 3] [99 99] [3 2 1]\n"
          ]
        }
      ]
    },
    {
      "cell_type": "code",
      "source": [
        "# grid = np.arange(16).reshape((4, 4))\n",
        "\n",
        "# upper, lower = np.vsplit(grid, [2])\n",
        "# print(upper)\n",
        "# print(lower)\n",
        "\n",
        "# left, right = np.hsplit(grid, [2])\n",
        "# print(left)\n",
        "# print(right)"
      ],
      "metadata": {
        "id": "X-8v-aeM_J9l"
      },
      "execution_count": null,
      "outputs": []
    }
  ]
}