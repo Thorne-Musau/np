{
  "nbformat": 4,
  "nbformat_minor": 0,
  "metadata": {
    "colab": {
      "provenance": [],
      "authorship_tag": "ABX9TyPVIExYZGXAzWlOsRuF/pqb",
      "include_colab_link": true
    },
    "kernelspec": {
      "name": "python3",
      "display_name": "Python 3"
    },
    "language_info": {
      "name": "python"
    }
  },
  "cells": [
    {
      "cell_type": "markdown",
      "metadata": {
        "id": "view-in-github",
        "colab_type": "text"
      },
      "source": [
        "<a href=\"https://colab.research.google.com/github/Thorne-Musau/np/blob/main/Fancy_indexing.ipynb\" target=\"_parent\"><img src=\"https://colab.research.google.com/assets/colab-badge.svg\" alt=\"Open In Colab\"/></a>"
      ]
    },
    {
      "cell_type": "markdown",
      "source": [
        "Fancy indexing is like the simple indexing but passing arrays of indices in place of single scalars. This allows us to very quickly access and modify complicated subsets of an array's values."
      ],
      "metadata": {
        "id": "zUZHkRwwN7CE"
      }
    },
    {
      "cell_type": "markdown",
      "source": [
        "It essentially means passing an array of indices to access multiple array elements at once"
      ],
      "metadata": {
        "id": "J7qOJoU0OwLU"
      }
    },
    {
      "cell_type": "code",
      "execution_count": 11,
      "metadata": {
        "colab": {
          "base_uri": "https://localhost:8080/"
        },
        "id": "cLI2SpbyMSRt",
        "outputId": "9d35e978-e54b-4e94-a3d0-5894f4cb8c72"
      },
      "outputs": [
        {
          "output_type": "stream",
          "name": "stdout",
          "text": [
            "[51 92 14 71 60 20 82 86 74 74]\n"
          ]
        }
      ],
      "source": [
        "import numpy as np\n",
        "rdm =np.random.RandomState(42)\n",
        "x = rdm.randint(100,size = 10)\n",
        "print(x)"
      ]
    },
    {
      "cell_type": "code",
      "source": [
        "# If we want to index this we can either:\n",
        "[x[3], x[7]]"
      ],
      "metadata": {
        "colab": {
          "base_uri": "https://localhost:8080/"
        },
        "id": "4qNkiDAyPOLf",
        "outputId": "b22a5da0-c172-4393-c6fd-944320e35a74"
      },
      "execution_count": 2,
      "outputs": [
        {
          "output_type": "execute_result",
          "data": {
            "text/plain": [
              "[71, 86]"
            ]
          },
          "metadata": {},
          "execution_count": 2
        }
      ]
    },
    {
      "cell_type": "code",
      "source": [
        "# Or:\n",
        "ind =[3,7]"
      ],
      "metadata": {
        "id": "_Ni66FH_Povz"
      },
      "execution_count": 3,
      "outputs": []
    },
    {
      "cell_type": "code",
      "source": [
        "#When using fancy indexing, the shape of the result reflects the shape of the index arrays rather than the shape of the array being indexed:\n",
        "ind = np.array([[3, 7],[4, 5]])\n",
        "x[ind]"
      ],
      "metadata": {
        "colab": {
          "base_uri": "https://localhost:8080/"
        },
        "id": "NOLffXaePs4C",
        "outputId": "9a37ab68-5aad-41ae-a917-71e91c3c3bc4"
      },
      "execution_count": 4,
      "outputs": [
        {
          "output_type": "execute_result",
          "data": {
            "text/plain": [
              "array([[71, 86],\n",
              "       [60, 20]])"
            ]
          },
          "metadata": {},
          "execution_count": 4
        }
      ]
    },
    {
      "cell_type": "markdown",
      "source": [
        "It can also be used when dealing with multi dimensional arrays.\n",
        "Consider:"
      ],
      "metadata": {
        "id": "twCmUF8iQJnZ"
      }
    },
    {
      "cell_type": "code",
      "source": [
        "x = np.arange(12).reshape((3,4))"
      ],
      "metadata": {
        "id": "chVbcDy3P02A"
      },
      "execution_count": 5,
      "outputs": []
    },
    {
      "cell_type": "code",
      "source": [
        "row = np.array([0, 1, 2])\n",
        "col = np.array([2, 1, 3])\n",
        "x[row, col]"
      ],
      "metadata": {
        "colab": {
          "base_uri": "https://localhost:8080/"
        },
        "id": "Sbcj49PSQafU",
        "outputId": "4738055e-7cdf-4aea-eac4-d62d92b74928"
      },
      "execution_count": 7,
      "outputs": [
        {
          "output_type": "execute_result",
          "data": {
            "text/plain": [
              "array([ 2,  5, 11])"
            ]
          },
          "metadata": {},
          "execution_count": 7
        }
      ]
    },
    {
      "cell_type": "markdown",
      "source": [
        "With the first value in the result is X[0, 2], the second is X[1, 1], and the third is X[2, 3]"
      ],
      "metadata": {
        "id": "9sa9ZR3IQnxX"
      }
    },
    {
      "cell_type": "markdown",
      "source": [
        "# Selection of Random points\n",
        "One common use of fancy indexing is the selection of subsets of rows from a matrix."
      ],
      "metadata": {
        "id": "y4oA4-EYSDFR"
      }
    },
    {
      "cell_type": "markdown",
      "source": [
        "We will start by the creation of a synthetic dataset"
      ],
      "metadata": {
        "id": "6VWpnJRASLpW"
      }
    },
    {
      "cell_type": "code",
      "source": [
        "import random\n",
        "mean = [0, 0]\n",
        "cov = [[1, 2],\n",
        "       [2, 5]]\n",
        "X = np.random.multivariate_normal(mean, cov, 100)\n",
        "x.shape"
      ],
      "metadata": {
        "colab": {
          "base_uri": "https://localhost:8080/"
        },
        "id": "8DGq9wAPQkMf",
        "outputId": "782fecb5-95d0-4ddd-f34c-fb41cc71d3f8"
      },
      "execution_count": 21,
      "outputs": [
        {
          "output_type": "execute_result",
          "data": {
            "text/plain": [
              "(10,)"
            ]
          },
          "metadata": {},
          "execution_count": 21
        }
      ]
    },
    {
      "cell_type": "markdown",
      "source": [
        "Visualizing the array points"
      ],
      "metadata": {
        "id": "JdlCcRo_U7Uo"
      }
    },
    {
      "cell_type": "code",
      "source": [
        "%matplotlib inline\n",
        "import matplotlib.pyplot as plt\n",
        "import seaborn; seaborn.set()  # for plot styling\n",
        "\n",
        "plt.scatter(X[:, 0], X[:, 1]);"
      ],
      "metadata": {
        "colab": {
          "base_uri": "https://localhost:8080/",
          "height": 434
        },
        "id": "Z-s6chpeSUEU",
        "outputId": "80b8c251-78d3-42a6-829e-b4a198faa68a"
      },
      "execution_count": 22,
      "outputs": [
        {
          "output_type": "display_data",
          "data": {
            "text/plain": [
              "<Figure size 640x480 with 1 Axes>"
            ],
            "image/png": "[encoded data removed]"
          },
          "metadata": {}
        }
      ]
    },
    {
      "cell_type": "code",
      "source": [
        "#Mask and choose 20 random indices with no repeats\n",
        "indices =np.random.choice(X.shape[0], 20, replace=False)\n",
        "indices"
      ],
      "metadata": {
        "colab": {
          "base_uri": "https://localhost:8080/"
        },
        "id": "3aEubAqiU1OL",
        "outputId": "3d6edcbf-4473-4a86-d303-d012e1f66e7b"
      },
      "execution_count": 23,
      "outputs": [
        {
          "output_type": "execute_result",
          "data": {
            "text/plain": [
              "array([97, 13, 40, 64, 11, 12, 31, 62, 36, 41, 95,  2, 94, 96, 16, 65, 87,\n",
              "       47, 88, 14])"
            ]
          },
          "metadata": {},
          "execution_count": 23
        }
      ]
    },
    {
      "cell_type": "code",
      "source": [
        "selection = X[indices]  # fancy indexing here\n",
        "selection.shape"
      ],
      "metadata": {
        "colab": {
          "base_uri": "https://localhost:8080/"
        },
        "id": "yahmlysjVY98",
        "outputId": "76bdd2b3-ab33-41fd-a1e6-91b7fddfd6dd"
      },
      "execution_count": 24,
      "outputs": [
        {
          "output_type": "execute_result",
          "data": {
            "text/plain": [
              "(20, 2)"
            ]
          },
          "metadata": {},
          "execution_count": 24
        }
      ]
    },
    {
      "cell_type": "code",
      "source": [
        "# Now we get to vis. the selected data points\n",
        "plt.scatter(X[:, 0], X[:, 1], alpha=0.3)\n",
        "plt.scatter(selection[:, 0], selection[:, 1],\n",
        "            facecolor='none',edgecolor='black', s=200);"
      ],
      "metadata": {
        "colab": {
          "base_uri": "https://localhost:8080/",
          "height": 434
        },
        "id": "8BJOSzRYVfeY",
        "outputId": "52679bc0-0a21-4c3d-a030-e8911c4b18f3"
      },
      "execution_count": 28,
      "outputs": [
        {
          "output_type": "display_data",
          "data": {
            "text/plain": [
              "<Figure size 640x480 with 1 Axes>"
            ],
            "image/png": "[encoded data removed]"
          },
          "metadata": {}
        }
      ]
    },
    {
      "cell_type": "code",
      "source": [],
      "metadata": {
        "id": "Tiq9-6WvV1EQ"
      },
      "execution_count": null,
      "outputs": []
    }
  ]
}