{
  "nbformat": 4,
  "nbformat_minor": 0,
  "metadata": {
    "colab": {
      "provenance": [],
      "authorship_tag": "ABX9TyOjKZCBgUbHIGQGiTPiN8ix",
      "include_colab_link": true
    },
    "kernelspec": {
      "name": "python3",
      "display_name": "Python 3"
    },
    "language_info": {
      "name": "python"
    }
  },
  "cells": [
    {
      "cell_type": "markdown",
      "metadata": {
        "id": "view-in-github",
        "colab_type": "text"
      },
      "source": [
        "<a href=\"https://colab.research.google.com/github/Thorne-Musau/np/blob/main/U_funcs.ipynb\" target=\"_parent\"><img src=\"https://colab.research.google.com/assets/colab-badge.svg\" alt=\"Open In Colab\"/></a>"
      ]
    },
    {
      "cell_type": "code",
      "execution_count": null,
      "metadata": {
        "colab": {
          "base_uri": "https://localhost:8080/"
        },
        "id": "P4ZlpN5cZMqb",
        "outputId": "e44af58b-1ed7-4065-9a26-904f517d5dcc"
      },
      "outputs": [
        {
          "output_type": "stream",
          "name": "stdout",
          "text": [
            "197 ms ± 34.8 ms per loop (mean ± std. dev. of 7 runs, 10 loops each)\n"
          ]
        }
      ],
      "source": [
        "# Conventional python looping takes time when observed with %timeit\n",
        "import numpy as np\n",
        "np.random.seed(0)\n",
        "def compute(values):\n",
        "  output = np.empty(len(values))\n",
        "\n",
        "  for i in range (len(values)):\n",
        "    output[i]= 1.0 /values[i]\n",
        "  return output\n",
        "values = np.random.randint(1,100,size=5)\n",
        "big_data= np.random.randint(1,100, size= 100000)\n",
        "%timeit compute(big_data)"
      ]
    },
    {
      "cell_type": "code",
      "source": [
        "# Ufunc of numpy is faster than the python loop\n",
        "%timeit 1.0 /values\n",
        "%timeit 1.0 / big_data"
      ],
      "metadata": {
        "colab": {
          "base_uri": "https://localhost:8080/"
        },
        "id": "Ve4Vp9-KZZ2r",
        "outputId": "d296b818-f1d2-4e79-93f1-2ec9dbb30858"
      },
      "execution_count": null,
      "outputs": [
        {
          "output_type": "stream",
          "name": "stdout",
          "text": [
            "1.51 µs ± 366 ns per loop (mean ± std. dev. of 7 runs, 1000000 loops each)\n",
            "179 µs ± 29.1 µs per loop (mean ± std. dev. of 7 runs, 10000 loops each)\n"
          ]
        }
      ]
    },
    {
      "cell_type": "code",
      "source": [
        "# Exploring NumPy's UFuncs\n",
        "## Array arithmetics- makes use of the standard addition and subtraction\n",
        "x = np.arange(4)\n",
        "print(\"x     =\", x)\n",
        "print(\"x + 5 =\", x + 5)\n",
        "print(\"x - 5 =\", x - 5)\n",
        "print(\"x * 2 =\", x * 2)\n",
        "print(\"x / 2 =\", x / 2)\n",
        "print(\"x // 2 =\", x // 2)  # floor division"
      ],
      "metadata": {
        "colab": {
          "base_uri": "https://localhost:8080/"
        },
        "id": "xMwRnQY8d4n6",
        "outputId": "de28eef7-375b-4835-9273-b4df0a7a8785"
      },
      "execution_count": null,
      "outputs": [
        {
          "output_type": "stream",
          "name": "stdout",
          "text": [
            "x     = [0 1 2 3]\n",
            "x + 5 = [5 6 7 8]\n",
            "x - 5 = [-5 -4 -3 -2]\n",
            "x * 2 = [0 2 4 6]\n",
            "x / 2 = [0.  0.5 1.  1.5]\n",
            "x // 2 = [0 0 1 1]\n"
          ]
        }
      ]
    },
    {
      "cell_type": "code",
      "source": [
        "# There is also a unary ufunc for negation, and a ** operator for exponentiation, and a % operator for modulus:\n",
        "print(\"-x     = \", -x)\n",
        "print(\"x ** 2 = \", x ** 2)\n",
        "print(\"x % 2  = \", x % 2)"
      ],
      "metadata": {
        "colab": {
          "base_uri": "https://localhost:8080/"
        },
        "id": "N_aUJnZier9j",
        "outputId": "118be88d-afd0-4ba9-8d3e-f0f7c4127daf"
      },
      "execution_count": null,
      "outputs": [
        {
          "output_type": "stream",
          "name": "stdout",
          "text": [
            "-x     =  [ 0 -1 -2 -3]\n",
            "x ** 2 =  [0 1 4 9]\n",
            "x % 2  =  [0 1 0 1]\n"
          ]
        }
      ]
    },
    {
      "cell_type": "code",
      "source": [
        "# Can be wound together\n",
        "-(0.5*x+1) ** 2"
      ],
      "metadata": {
        "colab": {
          "base_uri": "https://localhost:8080/"
        },
        "id": "3qin46yFe3TL",
        "outputId": "de758147-b284-412f-80df-e2a72a6cbe1e"
      },
      "execution_count": null,
      "outputs": [
        {
          "output_type": "execute_result",
          "data": {
            "text/plain": [
              "array([-1.  , -2.25, -4.  , -6.25])"
            ]
          },
          "metadata": {},
          "execution_count": 21
        }
      ]
    },
    {
      "cell_type": "code",
      "source": [
        "x"
      ],
      "metadata": {
        "colab": {
          "base_uri": "https://localhost:8080/"
        },
        "id": "AkVMzchCfSZC",
        "outputId": "d6bd1d1a-7f35-48ad-fb73-3ab87884f03c"
      },
      "execution_count": null,
      "outputs": [
        {
          "output_type": "execute_result",
          "data": {
            "text/plain": [
              "array([0, 1, 2, 3])"
            ]
          },
          "metadata": {},
          "execution_count": 22
        }
      ]
    },
    {
      "cell_type": "code",
      "source": [
        "np.add(x,2)"
      ],
      "metadata": {
        "colab": {
          "base_uri": "https://localhost:8080/"
        },
        "id": "xHwPynotfZFt",
        "outputId": "fd0acb17-7999-4a1b-c35d-0e968ef2a4e5"
      },
      "execution_count": null,
      "outputs": [
        {
          "output_type": "execute_result",
          "data": {
            "text/plain": [
              "array([2, 3, 4, 5])"
            ]
          },
          "metadata": {},
          "execution_count": 23
        }
      ]
    },
    {
      "cell_type": "code",
      "source": [
        "# Operator\tEquivalent ufunc\tDescription\n",
        "# +\tnp.add\tAddition (e.g., 1 + 1 = 2)\n",
        "# -\tnp.subtract\tSubtraction (e.g., 3 - 2 = 1)\n",
        "# -\tnp.negative\tUnary negation (e.g., -2)\n",
        "# *\tnp.multiply\tMultiplication (e.g., 2 * 3 = 6)\n",
        "# /\tnp.divide\tDivision (e.g., 3 / 2 = 1.5)\n",
        "# //\tnp.floor_divide\tFloor division (e.g., 3 // 2 = 1)\n",
        "# **\tnp.power\tExponentiation (e.g., 2 ** 3 = 8)\n",
        "# %\tnp.mod- Modulus or reminder"
      ],
      "metadata": {
        "id": "SoGwOyt_fc2n"
      },
      "execution_count": null,
      "outputs": []
    },
    {
      "cell_type": "code",
      "source": [
        "## Absolute value U-func\n",
        "x = np.array([-2, -1, 0, 1, 2])\n",
        "abs(x)"
      ],
      "metadata": {
        "colab": {
          "base_uri": "https://localhost:8080/"
        },
        "id": "kKKX5Scqfwgl",
        "outputId": "b8cb2e83-6cbf-4a1f-83bb-69cf06c78073"
      },
      "execution_count": null,
      "outputs": [
        {
          "output_type": "execute_result",
          "data": {
            "text/plain": [
              "array([2, 1, 0, 1, 2])"
            ]
          },
          "metadata": {},
          "execution_count": 25
        }
      ]
    },
    {
      "cell_type": "code",
      "source": [
        "# Corresponding U-Func to this is the np.absolute function also abs\n",
        "np.absolute(x)"
      ],
      "metadata": {
        "colab": {
          "base_uri": "https://localhost:8080/"
        },
        "id": "cXtHqut7f9J7",
        "outputId": "af88d289-4c30-4a71-e131-6dcc8405f0b2"
      },
      "execution_count": null,
      "outputs": [
        {
          "output_type": "execute_result",
          "data": {
            "text/plain": [
              "array([2, 1, 0, 1, 2])"
            ]
          },
          "metadata": {},
          "execution_count": 27
        }
      ]
    },
    {
      "cell_type": "code",
      "source": [
        "# Can also handle complex data\n",
        "x = np.array([3 - 4j, 4 - 3j, 2 + 0j, 0 + 1j])\n",
        "np.abs(x)"
      ],
      "metadata": {
        "colab": {
          "base_uri": "https://localhost:8080/"
        },
        "id": "IhMmOaHCgF8A",
        "outputId": "dc423e1a-883b-4847-f28e-dc478fafa93d"
      },
      "execution_count": null,
      "outputs": [
        {
          "output_type": "execute_result",
          "data": {
            "text/plain": [
              "array([5., 5., 2., 1.])"
            ]
          },
          "metadata": {},
          "execution_count": 29
        }
      ]
    },
    {
      "cell_type": "code",
      "source": [
        "## Trigonometric Functions\n",
        "theta = np.linspace(0, np.pi, 3)\n",
        "print(\"theta      = \", theta)\n",
        "print(\"sin(theta) = \", np.sin(theta))\n",
        "print(\"cos(theta) = \", np.cos(theta))\n",
        "print(\"tan(theta) = \", np.tan(theta))"
      ],
      "metadata": {
        "id": "iYZadBTvgXOS"
      },
      "execution_count": null,
      "outputs": []
    }
  ]
}